{
 "cells": [
  {
   "cell_type": "code",
   "execution_count": 1,
   "metadata": {},
   "outputs": [
    {
     "name": "stdout",
     "output_type": "stream",
     "text": [
      "loggedd in\n",
      "('adsfd', 'aszd')\n"
     ]
    }
   ],
   "source": [
    "#q1\n",
    "#username and password is \"admin\"\n",
    "from tkinter import *\n",
    "import sqlite3\n",
    "from tkinter import messagebox as msgbox\n",
    "window=Tk()\n",
    "\n",
    "window.title(\"Login\")\n",
    "window.geometry(\"1200x750\")\n",
    "window.config(bg=\"#faf3e0\")\n",
    "\n",
    "def con(a):\n",
    "    a.config(bg=\"#faf3e0\")\n",
    "def b(j):\n",
    "    j.config(bg=\"white\")\n",
    "\n",
    "\n",
    "user=Label(window,text=\"Username\",font=(1))\n",
    "user.place(x=560,y=220,width=120)\n",
    "con(user)\n",
    "\n",
    "pw=Label(window,text=\"Password\",font=(1))\n",
    "pw.place(x=560,y=250,width=120)\n",
    "con(pw)\n",
    "\n",
    "u=Entry(window,width=50)\n",
    "u.place(x=670,y=230,width=120,height=20)\n",
    "b(u)\n",
    "p=Entry(window,show=\"*\",width=50)\n",
    "p.place(x=670,y=255,width=120,height=20)\n",
    "b(p)\n",
    "    \n",
    "\n",
    "def logintodb():\n",
    "    if u.get()==\"admin\" and p.get()==\"admin\":\n",
    "        print(\"loggedd in\")\n",
    "        root=Tk()\n",
    "        root.geometry('650x650')\n",
    "        e=Label(root,text=\"Enter Name\").grid(row=0,column=0)\n",
    "        pla=Label(root,text=\"Enter place\").grid(row=1,column=0)\n",
    "        e1=Entry(root,width=20)\n",
    "        e1.grid(row=0,column=1)\n",
    "        e2=Entry(root,width=20)\n",
    "        e2.grid(row=1,column=1)\n",
    "        \n",
    "        def database():\n",
    "            a=e1.get()\n",
    "            b=e2.get()\n",
    "            db=sqlite3.connect(\"set11.db\")\n",
    "            conn=db.cursor()\n",
    "            conn.execute(\"CREATE TABLE IF NOT EXISTS PASSENGER(NAME TEXT NOT NULL,PLACE TEXT NOT NULL)\")\n",
    "            conn.execute(\"INSERT INTO PASSENGER(NAME,PLACE) VALUES(?,?)\",(a,b,))\n",
    "            msg = msgbox.showinfo( \"Status\",\"added to database\")\n",
    "            cur=conn.execute(\"SELECT * FROM PASSENGER\")\n",
    "            for row in cur:\n",
    "                print(row)\n",
    "            db.commit()\n",
    "            db.close()\n",
    "        s=Button(root,text=\"Add data\",command=database).grid(row=3,column=1)\n",
    "        root.mainloop()\n",
    "        \n",
    "    else:\n",
    "        msg=msgbox.showinfo(\"status\",\"wrong credentials\")\n",
    "    \n",
    "    \n",
    "log=Button(text=\"Login\",font=(0.5),command=logintodb)\n",
    "log.place(x=650,y=290,width=80,height=25)\n",
    "log.config(bg=\"#f4d160\")\n",
    "\n",
    "window.mainloop()"
   ]
  },
  {
   "cell_type": "code",
   "execution_count": null,
   "metadata": {},
   "outputs": [
    {
     "name": "stdout",
     "output_type": "stream",
     "text": [
      "Connected by address:  ('192.168.56.1', 50535)\n",
      "client:  HI\n"
     ]
    }
   ],
   "source": [
    "#q2 server\n",
    "import socket\n",
    "server_socket=socket.socket(socket.AF_INET,socket.SOCK_STREAM)\n",
    "host=socket.gethostname()\n",
    "port=600\n",
    "server_socket.bind((host,port))\n",
    "server_socket.listen(1)\n",
    "client_socket,addr=server_socket.accept()\n",
    "print(\"Connected by address: \",addr)\n",
    "while True:\n",
    "    data=client_socket.recv(1024)\n",
    "    print(\"client: \",data.decode())\n",
    "    reply=input(\"your message:\")\n",
    "    client_socket.send(bytes(reply,'utf-8'))\n",
    "    if reply=='end':\n",
    "        break\n",
    "client_socket.close()"
   ]
  },
  {
   "cell_type": "code",
   "execution_count": null,
   "metadata": {},
   "outputs": [],
   "source": [
    "import socket\n",
    "client_socket = socket.socket(socket.AF_INET,socket.SOCK_STREAM)\n",
    "HOST = socket.gethostname()\n",
    "PORT = 600\n",
    "client_socket.connect((HOST,PORT))\n",
    "while True:\n",
    "    message = input(\"Your message:\")\n",
    "    client_socket.send(bytes(message,'utf-8'))\n",
    "    if message == 'end':\n",
    "        break\n",
    "    reply = client_socket.recv(1024)\n",
    "    print(\"Server:\",reply.decode())\n",
    "client_socket.close()"
   ]
  },
  {
   "cell_type": "code",
   "execution_count": null,
   "metadata": {},
   "outputs": [],
   "source": []
  }
 ],
 "metadata": {
  "kernelspec": {
   "display_name": "Python 3",
   "language": "python",
   "name": "python3"
  },
  "language_info": {
   "codemirror_mode": {
    "name": "ipython",
    "version": 3
   },
   "file_extension": ".py",
   "mimetype": "text/x-python",
   "name": "python",
   "nbconvert_exporter": "python",
   "pygments_lexer": "ipython3",
   "version": "3.8.5"
  }
 },
 "nbformat": 4,
 "nbformat_minor": 4
}
