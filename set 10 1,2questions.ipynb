{
 "cells": [
  {
   "cell_type": "code",
   "execution_count": null,
   "metadata": {},
   "outputs": [],
   "source": [
    "#q1\n",
    "from tkinter import *\n",
    "root = Tk()\n",
    "root.title(\"032\")\n",
    "l1 = Label(root, text=\"Select from subject list\")\n",
    "l1.grid()\n",
    "text1 = StringVar()\n",
    "text1.set(\"Click here\")\n",
    "w = OptionMenu(root, text1, \"APP\",\"OS\",\"DAA\",\"SEPM\",\"SE\",\"PQT\")\n",
    "w.config(bg=\"RED\", fg=\"GREEN\")\n",
    "w[\"menu\"].config(bg=\"blue\")\n",
    "w.grid(pady=20)\n",
    "root.mainloop()"
   ]
  },
  {
   "cell_type": "code",
   "execution_count": null,
   "metadata": {},
   "outputs": [],
   "source": [
    "#q2\n",
    "import turtle\n",
    "import random\n",
    "from turtle import *\n",
    "\n",
    "tim = turtle.Turtle()\n",
    "tim.speed(0)\n",
    "tim.width(5)\n",
    "\n",
    "def up():\n",
    "    tim.setheading(90)\n",
    "    tim.forward(100)\n",
    "\n",
    "def down():\n",
    "    tim.setheading(270)\n",
    "    tim.forward(100)\n",
    "\n",
    "def left():\n",
    "    tim.setheading(180)\n",
    "    tim.forward(100)\n",
    "\n",
    "def right():\n",
    "    tim.setheading(0)\n",
    "    tim.forward(100)\n",
    "    \n",
    "turtle.listen()\n",
    "\n",
    "turtle.onkey(up, \"Up\")\n",
    "turtle.onkey(down, \"Down\")\n",
    "turtle.onkey(left, \"Left\")\n",
    "turtle.onkey(right, \"Right\")\n",
    "\n",
    "turtle.mainloop()"
   ]
  },
  {
   "cell_type": "code",
   "execution_count": null,
   "metadata": {},
   "outputs": [],
   "source": []
  },
  {
   "cell_type": "code",
   "execution_count": null,
   "metadata": {},
   "outputs": [],
   "source": []
  }
 ],
 "metadata": {
  "kernelspec": {
   "display_name": "Python 3",
   "language": "python",
   "name": "python3"
  },
  "language_info": {
   "codemirror_mode": {
    "name": "ipython",
    "version": 3
   },
   "file_extension": ".py",
   "mimetype": "text/x-python",
   "name": "python",
   "nbconvert_exporter": "python",
   "pygments_lexer": "ipython3",
   "version": "3.8.5"
  }
 },
 "nbformat": 4,
 "nbformat_minor": 4
}
