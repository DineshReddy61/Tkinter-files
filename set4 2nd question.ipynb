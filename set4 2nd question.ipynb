{
 "cells": [
  {
   "cell_type": "code",
   "execution_count": 5,
   "metadata": {},
   "outputs": [
    {
     "name": "stdout",
     "output_type": "stream",
     "text": [
      "toggle is on\n",
      "Submit button clicked\n"
     ]
    }
   ],
   "source": [
    "from tkinter import *\n",
    "window=Tk()\n",
    "window.geometry('500x500')\n",
    "radio=IntVar()\n",
    "\n",
    "def check():\n",
    "    x=radio.get()\n",
    "    if x==1:\n",
    "        print(\"toggle is on\")\n",
    "        print(\"Submit button clicked\")\n",
    "    else:\n",
    "        print(\"toggle is off\")\n",
    "        print(\"Submit button clicked\")\n",
    "        \n",
    "m=Radiobutton(window,text='Toggle',variable=radio,value=1)\n",
    "m.pack()\n",
    "b=Button(window,text=\"Submit\",command=check)\n",
    "b.pack()\n",
    "window.mainloop()"
   ]
  },
  {
   "cell_type": "code",
   "execution_count": null,
   "metadata": {},
   "outputs": [],
   "source": []
  }
 ],
 "metadata": {
  "kernelspec": {
   "display_name": "Python 3",
   "language": "python",
   "name": "python3"
  },
  "language_info": {
   "codemirror_mode": {
    "name": "ipython",
    "version": 3
   },
   "file_extension": ".py",
   "mimetype": "text/x-python",
   "name": "python",
   "nbconvert_exporter": "python",
   "pygments_lexer": "ipython3",
   "version": "3.8.5"
  }
 },
 "nbformat": 4,
 "nbformat_minor": 4
}
