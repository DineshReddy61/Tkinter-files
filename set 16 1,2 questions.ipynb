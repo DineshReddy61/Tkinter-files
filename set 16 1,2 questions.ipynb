{
 "cells": [
  {
   "cell_type": "code",
   "execution_count": 10,
   "metadata": {},
   "outputs": [
    {
     "data": {
      "text/latex": [
       "$\\displaystyle x^{6} + 6 x^{5} y + 15 x^{4} y^{2} + 20 x^{3} y^{3} + 15 x^{2} y^{4} + 6 x y^{5} + y^{6}$"
      ],
      "text/plain": [
       "x**6 + 6*x**5*y + 15*x**4*y**2 + 20*x**3*y**3 + 15*x**2*y**4 + 6*x*y**5 + y**6"
      ]
     },
     "execution_count": 10,
     "metadata": {},
     "output_type": "execute_result"
    }
   ],
   "source": [
    "#q2\n",
    "from sympy import *\n",
    "import sympy as sym\n",
    "x=sym.Symbol('x')\n",
    "y=sym.Symbol('y')\n",
    "sym.expand((x+y) ** 6)"
   ]
  },
  {
   "cell_type": "code",
   "execution_count": 14,
   "metadata": {},
   "outputs": [
    {
     "data": {
      "text/latex": [
       "$\\displaystyle \\tan{\\left(x \\right)}$"
      ],
      "text/plain": [
       "tan(x)"
      ]
     },
     "execution_count": 14,
     "metadata": {},
     "output_type": "execute_result"
    }
   ],
   "source": [
    "from sympy import *\n",
    "sym.simplify(sin(x)/cos(x))"
   ]
  },
  {
   "cell_type": "code",
   "execution_count": 27,
   "metadata": {},
   "outputs": [
    {
     "data": {
      "text/latex": [
       "$\\displaystyle \\frac{5}{6}$"
      ],
      "text/plain": [
       "5/6"
      ]
     },
     "execution_count": 27,
     "metadata": {},
     "output_type": "execute_result"
    }
   ],
   "source": [
    "from sympy import *\n",
    "a=sym.Rational(1,2)\n",
    "b=sym.Rational(1,3)\n",
    "sym.simplify(a+b)"
   ]
  },
  {
   "cell_type": "code",
   "execution_count": 5,
   "metadata": {},
   "outputs": [
    {
     "data": {
      "text/latex": [
       "$\\displaystyle 1.414213562373095048801688724209698078569671875376948073176679737990732478462107038850387534327641573$"
      ],
      "text/plain": [
       "1.414213562373095048801688724209698078569671875376948073176679737990732478462107038850387534327641573"
      ]
     },
     "execution_count": 5,
     "metadata": {},
     "output_type": "execute_result"
    }
   ],
   "source": [
    "from sympy import *\n",
    "N(sqrt(2),100)"
   ]
  },
  {
   "cell_type": "code",
   "execution_count": 6,
   "metadata": {},
   "outputs": [
    {
     "name": "stdout",
     "output_type": "stream",
     "text": [
      "After Simplification : -n*x**4 + sin(x)\n"
     ]
    }
   ],
   "source": [
    "import sympy\n",
    "from sympy import *\n",
    "x,n = symbols('x n')\n",
    "expr = sin(x)-x*x**3*n\n",
    "\n",
    "smpl = trigsimp(expr)\n",
    "\n",
    "print(\"After Simplification : {}\".format(smpl))"
   ]
  },
  {
   "cell_type": "code",
   "execution_count": null,
   "metadata": {},
   "outputs": [
    {
     "name": "stderr",
     "output_type": "stream",
     "text": [
      "Exception in Tkinter callback\n",
      "Traceback (most recent call last):\n",
      "  File \"C:\\Users\\DINESH\\anaconda3\\lib\\tkinter\\__init__.py\", line 1883, in __call__\n",
      "    return self.func(*args)\n",
      "  File \"<ipython-input-1-8aa0d6c22d05>\", line 35, in submit044\n",
      "    basic_pay=int(h1.get())\n",
      "ValueError: invalid literal for int() with base 10: 'dfg'\n"
     ]
    }
   ],
   "source": [
    "#q1\n",
    "from tkinter import *\n",
    "from tkinter import messagebox\n",
    "window = Tk()\n",
    "window.title(\"Employee information form\")\n",
    "window.geometry('1000x1000')\n",
    "a044 = Label(window ,text = \"Employee Name\").grid(row = 0,column = 0)\n",
    "b044 = Label(window ,text = \"Employee IID\").grid(row = 1,column = 0)\n",
    "c044 = Label(window ,text = \"Address\").grid(row = 2,column = 0)\n",
    "d044 = Label(window ,text = \"Phone number\").grid(row = 3,column = 0)\n",
    "e044 = Label(window ,text = \"Date of joining\").grid(row = 4,column = 0)\n",
    "f044 = Label(window ,text = \"Mobile number\").grid(row = 5,column = 0)\n",
    "g044 = Label(window ,text = \"Email ID\").grid(row = 6,column = 0)\n",
    "h044 = Label(window ,text = \"Basic Pay\").grid(row = 7,column = 0)\n",
    "i044 = Label(window ,text = \"HA\").grid(row =8,column = 0)\n",
    "j044 = Label(window ,text = \"DA\").grid(row = 9,column = 0)\n",
    "k044 = Label(window ,text = \"Experience\").grid(row = 10,column = 0)\n",
    "a1 = Entry(window).grid(row = 0,column = 1)\n",
    "b1 = Entry(window).grid(row = 1,column = 1)\n",
    "c1 = Entry(window).grid(row = 2,column = 1)\n",
    "d1 = Entry(window).grid(row = 3,column = 1)\n",
    "e1 = Entry(window).grid(row = 4,column = 1)\n",
    "f1 = Entry(window).grid(row = 5,column = 1)\n",
    "g1 = Entry(window).grid(row = 6,column = 1)\n",
    "h1 = Entry(window)\n",
    "h1.grid(row = 7,column = 1)\n",
    "i1 = Entry(window)\n",
    "i1.grid(row = 8,column = 1)\n",
    "j1 = Entry(window)\n",
    "j1.grid(row = 9,column = 1)\n",
    "k1 = Entry(window).grid(row = 10,column = 1)\n",
    "ll1=Label(window,text=\" \")\n",
    "ll1.grid(row=12,column=1)\n",
    "def submit044():\n",
    "    basic_pay=int(h1.get())\n",
    "    ha=int(i1.get())\n",
    "    da=int(j1.get())\n",
    "    salary=basic_pay+ha+da\n",
    "    ll1.config(text=\"The salary is \"+str(salary))\n",
    "btn044 = Button(window ,text=\"Submit\",command=submit044).grid(row=11,column=1)\n",
    "window.mainloop()"
   ]
  },
  {
   "cell_type": "code",
   "execution_count": null,
   "metadata": {},
   "outputs": [],
   "source": []
  }
 ],
 "metadata": {
  "kernelspec": {
   "display_name": "Python 3",
   "language": "python",
   "name": "python3"
  },
  "language_info": {
   "codemirror_mode": {
    "name": "ipython",
    "version": 3
   },
   "file_extension": ".py",
   "mimetype": "text/x-python",
   "name": "python",
   "nbconvert_exporter": "python",
   "pygments_lexer": "ipython3",
   "version": "3.8.5"
  }
 },
 "nbformat": 4,
 "nbformat_minor": 4
}
