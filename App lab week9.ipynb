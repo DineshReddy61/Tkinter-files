{
 "cells": [
  {
   "cell_type": "code",
   "execution_count": null,
   "metadata": {},
   "outputs": [],
   "source": [
    "# DFA 1 -- strings that contain '001'\n",
    "\n",
    "from automata.fa.dfa import DFA\n",
    "\n",
    "dfa = DFA(\n",
    "\n",
    "    states = {'q0', 'q1', 'q2', 'q3'},\n",
    "    input_symbols = {'1', '0'},\n",
    "    transitions = {\n",
    "        'q0' : {'0' : 'q1', '1' : 'q0'},\n",
    "        'q1' : {'0' : 'q2', '1' : 'q0'},\n",
    "        'q2' : {'0' : 'q2', '1' : 'q3'},\n",
    "        'q3' : {'0' : 'q3', '1' : 'q3'}\n",
    "    },\n",
    "    initial_state = 'q0',\n",
    "    final_states = {'q3'}\n",
    ")\n",
    "\n",
    "x = input( \"Enter a string : \" )\n",
    "\n",
    "if dfa.accepts_input(x) :\n",
    "    print( \"Accepted\" )\n",
    "else:\n",
    "    print(\"Not Accepted\")"
   ]
  },
  {
   "cell_type": "code",
   "execution_count": 3,
   "metadata": {},
   "outputs": [
    {
     "name": "stdout",
     "output_type": "stream",
     "text": [
      "Collecting automata-lib\n",
      "  Downloading automata_lib-4.0.0.post1-py3-none-any.whl (25 kB)\n",
      "Installing collected packages: automata-lib\n",
      "Successfully installed automata-lib-4.0.0.post1\n"
     ]
    }
   ],
   "source": [
    "!python -m pip install automata-lib\n"
   ]
  },
  {
   "cell_type": "code",
   "execution_count": null,
   "metadata": {},
   "outputs": [],
   "source": [
    "# DFA 2 -- L(M) = { w | w has an even number of 1s}\n",
    "\n",
    "from automata.fa.dfa import DFA\n",
    "\n",
    "dfa = DFA(\n",
    "\n",
    "    states = {'q0', 'q1', 'q2'},\n",
    "    input_symbols = {'1'},\n",
    "    transitions = {\n",
    "        \n",
    "        'q0' : { '1' : 'q1' },\n",
    "        'q1' : { '1' : 'q2' },\n",
    "        'q2' : { '1' : 'q1' },\n",
    "    },\n",
    "    initial_state = 'q0',\n",
    "    final_states = {'q2'}\n",
    ")\n",
    "\n",
    "x = input( \"Enter a string : \" )\n",
    "\n",
    "if dfa.accepts_input(x) :\n",
    "    print( \"Accepted\" )\n",
    "else:\n",
    "    print(\"Not Accepted\")"
   ]
  },
  {
   "cell_type": "code",
   "execution_count": null,
   "metadata": {},
   "outputs": [],
   "source": [
    "# DFA 3 -- L(M) ={0,1}*\n",
    "\n",
    "from automata.fa.dfa import DFA\n",
    "\n",
    "dfa = DFA(\n",
    "\n",
    "    states = { 'q0' },\n",
    "    input_symbols = {'0', '1'},\n",
    "    transitions = {\n",
    "        \n",
    "        'q0' : { '1' : 'q0', '0' : 'q0' },\n",
    "    },\n",
    "    initial_state = 'q0',\n",
    "    final_states = {'q0'}\n",
    ")\n",
    "\n",
    "x = input( \"Enter a string : \" )\n",
    "\n",
    "if dfa.accepts_input(x) :\n",
    "    print( \"Accepted\" )\n",
    "else:\n",
    "    print(\"Not Accepted\")"
   ]
  },
  {
   "cell_type": "code",
   "execution_count": null,
   "metadata": {},
   "outputs": [],
   "source": [
    "# DFA 4 -- L(M)=a + aa*b.\n",
    "\n",
    "from automata.fa.dfa import DFA\n",
    "\n",
    "dfa = DFA(\n",
    "\n",
    "    states = {'q0', 'q1', 'q2', 'q3', 'q4'},\n",
    "    input_symbols = {'a', 'b'},\n",
    "    transitions = {\n",
    "        \n",
    "        'q0' : { 'a' : 'q1', 'b' : 'q4' },\n",
    "        'q1' : { 'a' : 'q2', 'b' : 'q3' },\n",
    "        'q2' : { 'a' : 'q2', 'b' : 'q3' },\n",
    "        'q3' : { 'a' : 'q4', 'b' : 'q4' },\n",
    "        'q4' : { 'a' : 'q4', 'b' : 'q4' }\n",
    "    },\n",
    "    initial_state = 'q0',\n",
    "    final_states = { 'q1', 'q3' }\n",
    ")\n",
    "\n",
    "x = input( \"Enter a string : \" )\n",
    "\n",
    "if dfa.accepts_input(x) :\n",
    "    print( \"Accepted\" )\n",
    "else:\n",
    "    print(\"Not Accepted\")"
   ]
  },
  {
   "cell_type": "code",
   "execution_count": null,
   "metadata": {},
   "outputs": [],
   "source": [
    "# DFA 5 -- L(M)={(ab)n | n ∈ N}.\n",
    "\n",
    "from automata.fa.dfa import DFA\n",
    "\n",
    "dfa = DFA(\n",
    "\n",
    "    states = { 'q0', 'q1', 'q2', 'q3' },\n",
    "    input_symbols = {'a', 'b'},\n",
    "    transitions = {\n",
    "        \n",
    "        'q0' : { 'a' : 'q1', 'b' : 'q3' },\n",
    "        'q1' : { 'a' : 'q3', 'b' : 'q2' },\n",
    "        'q2' : { 'a' : 'q1', 'b' : 'q3' },\n",
    "        'q3' : { 'a' : 'q3', 'b' : 'q3' }\n",
    "    },\n",
    "    initial_state = 'q0',\n",
    "    final_states = { 'q2' }\n",
    ")\n",
    "\n",
    "x = input( \"Enter a string : \" )\n",
    "\n",
    "if dfa.accepts_input(x) :\n",
    "    print( \"Accepted\" )\n",
    "else:\n",
    "    print(\"Not Accepted\")"
   ]
  },
  {
   "cell_type": "code",
   "execution_count": null,
   "metadata": {},
   "outputs": [],
   "source": [
    "# DFA 6 -- Σ = {0, 1}, DFA for {}\n",
    "\n",
    "from automata.fa.dfa import DFA\n",
    "\n",
    "dfa = DFA(\n",
    "\n",
    "    states = { 'q0' , 'q1'},\n",
    "    input_symbols = {'0', '1'},\n",
    "    transitions = {\n",
    "        \n",
    "        'q0' : { '1' : 'q0', '0' : 'q0' },\n",
    "        'q1' : { '1' : 'q1', '0' : 'q1' }\n",
    "    },\n",
    "    initial_state = 'q0',\n",
    "    final_states = {'q1'}\n",
    ")\n",
    "\n",
    "x = input( \"Enter a string : \" )\n",
    "\n",
    "if dfa.accepts_input(x) :\n",
    "    print( \"Accepted\" )\n",
    "else:\n",
    "    print(\"Not Accepted\")"
   ]
  },
  {
   "cell_type": "code",
   "execution_count": 91,
   "metadata": {},
   "outputs": [
    {
     "name": "stdout",
     "output_type": "stream",
     "text": [
      "Accepted\n"
     ]
    }
   ],
   "source": [
    "# DFA 6 -- Σ = {0, 1}, DFA for {ε}\n",
    "\n",
    "from automata.fa.dfa import DFA\n",
    "\n",
    "dfa = DFA(\n",
    "\n",
    "    states = { 'q0' , 'q1'},\n",
    "    input_symbols = {'0', '1'},\n",
    "    transitions = {\n",
    "        \n",
    "        'q0' : { '1' : 'q1', '0' : 'q1' },\n",
    "        'q1' : { '1' : 'q1', '0' : 'q1' }\n",
    "    },\n",
    "    initial_state = 'q0',\n",
    "    final_states = {'q0'}\n",
    ")\n",
    "\n",
    "x = input( \"Enter a string : \" )\n",
    "\n",
    "if dfa.accepts_input(x) :\n",
    "    print( \"Accepted\" )\n",
    "else:\n",
    "    print(\"Not Accepted\")"
   ]
  },
  {
   "cell_type": "code",
   "execution_count": 87,
   "metadata": {},
   "outputs": [
    {
     "name": "stdout",
     "output_type": "stream",
     "text": [
      "Accepted\n"
     ]
    }
   ],
   "source": [
    "# DFA 6 -- Σ = {0, 1}, DFA for Σ* \n",
    "\n",
    "from automata.fa.dfa import DFA\n",
    "\n",
    "dfa = DFA(\n",
    "\n",
    "    states = { 'q0' },\n",
    "    input_symbols = {'0', '1'},\n",
    "    transitions = {\n",
    "        \n",
    "        'q0' : { '1' : 'q0', '0' : 'q0' },\n",
    "    },\n",
    "    initial_state = 'q0',\n",
    "    final_states = {'q0'}\n",
    ")\n",
    "\n",
    "x = input( \"Enter a string : \" )\n",
    "\n",
    "if dfa.accepts_input(x) :\n",
    "    print( \"Accepted\" )\n",
    "else:\n",
    "    print(\"Not Accepted\")"
   ]
  },
  {
   "cell_type": "code",
   "execution_count": null,
   "metadata": {},
   "outputs": [],
   "source": [
    "# DFA 6 -- Σ = {0, 1}, DFA for Σ+ \n",
    "\n",
    "from automata.fa.dfa import DFA\n",
    "\n",
    "dfa = DFA(\n",
    "\n",
    "    states = { 'q0' , 'q1' },\n",
    "    input_symbols = {'0', '1'},\n",
    "    transitions = {\n",
    "        \n",
    "        'q0' : { '1' : 'q1', '0' : 'q1' },\n",
    "        'q1' : { '1' : 'q1', '0' : 'q1' }\n",
    "    },\n",
    "    initial_state = 'q0',\n",
    "    final_states = {'q1'}\n",
    ")\n",
    "\n",
    "x = input( \"Enter a string : \" )\n",
    "\n",
    "if dfa.accepts_input(x) :\n",
    "    print( \"Accepted\" )\n",
    "else:\n",
    "    print(\"Not Accepted\")"
   ]
  },
  {
   "cell_type": "code",
   "execution_count": 61,
   "metadata": {},
   "outputs": [
    {
     "name": "stdout",
     "output_type": "stream",
     "text": [
      "Not Accepted\n"
     ]
    }
   ],
   "source": [
    "# NFA 1 -- Language that accepts all end with '01'\n",
    "\n",
    "from automata.fa.nfa import NFA\n",
    "\n",
    "nfa = NFA(\n",
    "\n",
    "    states = { 'q0' , 'q1', 'q2' },\n",
    "    input_symbols = {'0', '1'},\n",
    "    transitions = {\n",
    "        \n",
    "        'q0' : { '0' : {'q1', 'q0'}, '1' : {'q0'} },\n",
    "        'q1' : { '0' : {}, '1' : {'q2'} },\n",
    "        'q2' : { '0' : {}, '1' : {} }\n",
    "    },\n",
    "    initial_state = 'q0',\n",
    "    final_states = { 'q2' }\n",
    ")\n",
    "\n",
    "x = input( \"Enter a string : \" )\n",
    "\n",
    "if nfa.accepts_input(x) :\n",
    "    print( \"Accepted\" )\n",
    "else:\n",
    "    print(\"Not Accepted\")"
   ]
  },
  {
   "cell_type": "code",
   "execution_count": 76,
   "metadata": {},
   "outputs": [
    {
     "name": "stdout",
     "output_type": "stream",
     "text": [
      "Accepted\n"
     ]
    }
   ],
   "source": [
    "# NFA 2 -- L(M)= a + aa*b + a*b\n",
    "\n",
    "from automata.fa.nfa import NFA\n",
    "\n",
    "nfa = NFA(\n",
    "\n",
    "    states = { 'q0' , 'q1', 'q2' },\n",
    "    input_symbols = {'a', 'b'},\n",
    "    transitions = {\n",
    "        \n",
    "        'q0' : { 'a' : { 'q1', 'q2' }, 'b' : { 'q1' } },\n",
    "        'q1' : { 'a' : { 'q1' }, 'b' : { 'q2' } },\n",
    "        'q2' : { 'a' : {}, 'b' : {} }\n",
    "    },\n",
    "    initial_state = 'q0',\n",
    "    final_states = { 'q2' }\n",
    ")\n",
    "\n",
    "x = input( \"Enter a string : \" )\n",
    "\n",
    "if nfa.accepts_input(x) :\n",
    "    print( \"Accepted\" )\n",
    "else:\n",
    "    print(\"Not Accepted\")"
   ]
  },
  {
   "cell_type": "code",
   "execution_count": 90,
   "metadata": {},
   "outputs": [
    {
     "name": "stdout",
     "output_type": "stream",
     "text": [
      "Not Accepted\n"
     ]
    }
   ],
   "source": [
    "# NFA 3 -- Σ = {a, b}, NFA for {}\n",
    "\n",
    "from automata.fa.nfa import NFA\n",
    "\n",
    "nfa = NFA(\n",
    "\n",
    "    states = { 'q0' , 'q1'},\n",
    "    input_symbols = {'a', 'b'},\n",
    "    transitions = {\n",
    "        \n",
    "        'q0' : { 'a' : {'q0'}, 'b' : {'q0'} },\n",
    "        'q1' : { 'a' : { }, 'b' : {} },\n",
    "    },\n",
    "    initial_state = 'q0',\n",
    "    final_states = { 'q1' }\n",
    ")\n",
    "\n",
    "x = input( \"Enter a string : \" )\n",
    "\n",
    "if nfa.accepts_input(x) :\n",
    "    print( \"Accepted\" )\n",
    "else:\n",
    "    print(\"Not Accepted\")"
   ]
  },
  {
   "cell_type": "code",
   "execution_count": 89,
   "metadata": {},
   "outputs": [
    {
     "name": "stdout",
     "output_type": "stream",
     "text": [
      "Not Accepted\n"
     ]
    }
   ],
   "source": [
    "# NFA 3 -- Σ = {a, b}, NFA for {ε}\n",
    "\n",
    "from automata.fa.nfa import NFA\n",
    "\n",
    "nfa = NFA(\n",
    "\n",
    "    states = { 'q0', 'q1' },\n",
    "    input_symbols = {'a', 'b'},\n",
    "    transitions = {\n",
    "        \n",
    "        'q0' : { 'a' : {'q1'}, 'b' : {'q1'} },\n",
    "        'q1' : { 'a' : {'q1'}, 'b' : {'q1'} }\n",
    "    },\n",
    "    initial_state = 'q0',\n",
    "    final_states = { 'q1' }\n",
    ")\n",
    "\n",
    "x = input( \"Enter a string : \" )\n",
    "\n",
    "if nfa.accepts_input(x) :\n",
    "    print( \"Accepted\" )\n",
    "else:\n",
    "    print(\"Not Accepted\")"
   ]
  },
  {
   "cell_type": "code",
   "execution_count": null,
   "metadata": {},
   "outputs": [],
   "source": [
    "# NFA 3 -- Σ = {a, b}, NFA for {(ab) n | n  N}, which has regular expression (ab)*\n",
    "\n",
    "from automata.fa.nfa import NFA\n",
    "\n",
    "nfa = NFA(\n",
    "\n",
    "    states = { 'q0', 'q1' },\n",
    "    input_symbols = {'a', 'b'},\n",
    "    transitions = {\n",
    "        \n",
    "        'q0' : { 'a' : {'q1'}, 'b' : {'q1'} },\n",
    "        'q1' : { 'a' : {'q1'}, 'b' : {'q1'} }\n",
    "    },\n",
    "    initial_state = 'q0',\n",
    "    final_states = { 'q1' }\n",
    ")\n",
    "\n",
    "x = input( \"Enter a string : \" )\n",
    "\n",
    "if nfa.accepts_input(x) :\n",
    "    print( \"Accepted\" )\n",
    "else:\n",
    "    print(\"Not Accepted\")"
   ]
  }
 ],
 "metadata": {
  "kernelspec": {
   "display_name": "Python 3",
   "language": "python",
   "name": "python3"
  },
  "language_info": {
   "codemirror_mode": {
    "name": "ipython",
    "version": 3
   },
   "file_extension": ".py",
   "mimetype": "text/x-python",
   "name": "python",
   "nbconvert_exporter": "python",
   "pygments_lexer": "ipython3",
   "version": "3.8.5"
  },
  "metadata": {
   "interpreter": {
    "hash": "5eb96834be2812746ed514d13a252d28360b10542cd66dd9d95dfe58dc3325cb"
   }
  }
 },
 "nbformat": 4,
 "nbformat_minor": 4
}
