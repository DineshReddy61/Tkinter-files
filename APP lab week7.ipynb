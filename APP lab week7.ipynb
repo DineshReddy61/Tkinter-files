{
 "cells": [
  {
   "cell_type": "code",
   "execution_count": 1,
   "metadata": {},
   "outputs": [
    {
     "data": {
      "text/latex": [
       "$\\displaystyle 1.414213562373095048801688724209698078569671875376948073176679737990732478462107038850387534327641573$"
      ],
      "text/plain": [
       "1.414213562373095048801688724209698078569671875376948073176679737990732478462107038850387534327641573"
      ]
     },
     "execution_count": 1,
     "metadata": {},
     "output_type": "execute_result"
    }
   ],
   "source": [
    "from sympy import sqrt\n",
    "sqrt(2).evalf(100)"
   ]
  },
  {
   "cell_type": "code",
   "execution_count": 2,
   "metadata": {},
   "outputs": [
    {
     "data": {
      "text/latex": [
       "$\\displaystyle \\frac{5}{6}$"
      ],
      "text/plain": [
       "5/6"
      ]
     },
     "execution_count": 2,
     "metadata": {},
     "output_type": "execute_result"
    }
   ],
   "source": [
    "import sympy as sym\n",
    "a = sym.Rational(1, 2)\n",
    "b = sym.Rational(1, 3)\n",
    "\n",
    "a+b"
   ]
  },
  {
   "cell_type": "code",
   "execution_count": 3,
   "metadata": {},
   "outputs": [
    {
     "data": {
      "text/latex": [
       "$\\displaystyle x^{6} + 6 x^{5} y + 15 x^{4} y^{2} + 20 x^{3} y^{3} + 15 x^{2} y^{4} + 6 x y^{5} + y^{6}$"
      ],
      "text/plain": [
       "x**6 + 6*x**5*y + 15*x**4*y**2 + 20*x**3*y**3 + 15*x**2*y**4 + 6*x*y**5 + y**6"
      ]
     },
     "execution_count": 3,
     "metadata": {},
     "output_type": "execute_result"
    }
   ],
   "source": [
    "import sympy as sym\n",
    "x = sym.Symbol('x')\n",
    "y = sym.Symbol('y')\n",
    "n = sym.Symbol('n')\n",
    "sym.expand((x + y) ** 6)"
   ]
  },
  {
   "cell_type": "code",
   "execution_count": 4,
   "metadata": {},
   "outputs": [
    {
     "data": {
      "text/latex": [
       "$\\displaystyle \\tan{\\left(x \\right)}$"
      ],
      "text/plain": [
       "tan(x)"
      ]
     },
     "execution_count": 4,
     "metadata": {},
     "output_type": "execute_result"
    }
   ],
   "source": [
    "from sympy import *\n",
    "x = symbols('x')\n",
    "expr = sin(x) / cos(x)\n",
    "smpl = trigsimp(expr)\n",
    "simplify(sin(x)/cos(x))"
   ]
  },
  {
   "cell_type": "code",
   "execution_count": 5,
   "metadata": {},
   "outputs": [
    {
     "data": {
      "text/latex": [
       "$\\displaystyle - xx^{3 n} + \\sin{\\left(x \\right)}$"
      ],
      "text/plain": [
       "-xx**(3*n) + sin(x)"
      ]
     },
     "execution_count": 5,
     "metadata": {},
     "output_type": "execute_result"
    }
   ],
   "source": [
    "from sympy import *\n",
    "import sympy as sym\n",
    "x = sym.Symbol('x')\n",
    "xx = sym.Symbol('xx')\n",
    "n = sym.Symbol('n')\n",
    "simplify(sin(x)-xx**(3*n))"
   ]
  },
  {
   "cell_type": "code",
   "execution_count": 27,
   "metadata": {},
   "outputs": [
    {
     "name": "stdout",
     "output_type": "stream",
     "text": [
      "a^2-ab+ab-b^2 =\n"
     ]
    },
    {
     "data": {
      "text/latex": [
       "$\\displaystyle a^{2} - b^{2}$"
      ],
      "text/plain": [
       "a**2 - b**2"
      ]
     },
     "execution_count": 27,
     "metadata": {},
     "output_type": "execute_result"
    }
   ],
   "source": [
    "import sympy as sym\n",
    "from sympy import *\n",
    "a = sym.Symbol('a')\n",
    "b = sym.Symbol('b')\n",
    "ab = sym.Symbol('ab')\n",
    "print(\"a^2-ab+ab-b^2 =\")\n",
    "simplify(a**2-ab+ab-b**2)\n"
   ]
  },
  {
   "cell_type": "code",
   "execution_count": 7,
   "metadata": {},
   "outputs": [
    {
     "data": {
      "text/latex": [
       "$\\displaystyle \\frac{a^{4}}{12}$"
      ],
      "text/plain": [
       "a**4/12"
      ]
     },
     "execution_count": 7,
     "metadata": {},
     "output_type": "execute_result"
    }
   ],
   "source": [
    "import sympy as sym\n",
    "a=sym.Symbol('a')\n",
    "\n",
    "sym.integrate((a**2),a,a)"
   ]
  },
  {
   "cell_type": "code",
   "execution_count": 8,
   "metadata": {},
   "outputs": [
    {
     "data": {
      "text/latex": [
       "$\\displaystyle 2 x + y^{2}$"
      ],
      "text/plain": [
       "2*x + y**2"
      ]
     },
     "execution_count": 8,
     "metadata": {},
     "output_type": "execute_result"
    }
   ],
   "source": [
    "import sympy as sym\n",
    "x = sym.Symbol('x')\n",
    "y = sym.Symbol('y')\n",
    "(2*x)+(y**2)"
   ]
  },
  {
   "cell_type": "code",
   "execution_count": 9,
   "metadata": {},
   "outputs": [
    {
     "data": {
      "text/latex": [
       "$\\displaystyle \\frac{3}{10}$"
      ],
      "text/plain": [
       "3/10"
      ]
     },
     "execution_count": 9,
     "metadata": {},
     "output_type": "execute_result"
    }
   ],
   "source": [
    "import sympy as sym\n",
    "x = sym.Rational(1, 5)\n",
    "y = sym.Rational(1, 10)\n",
    "\n",
    "x+y"
   ]
  },
  {
   "cell_type": "code",
   "execution_count": 10,
   "metadata": {},
   "outputs": [
    {
     "data": {
      "text/latex": [
       "$\\displaystyle \\cos{\\left(x \\right)}$"
      ],
      "text/plain": [
       "cos(x)"
      ]
     },
     "execution_count": 10,
     "metadata": {},
     "output_type": "execute_result"
    }
   ],
   "source": [
    "import sympy as sym\n",
    "x=sym.Symbol('x')\n",
    "sym.diff(sin(x),x)"
   ]
  },
  {
   "cell_type": "code",
   "execution_count": 11,
   "metadata": {},
   "outputs": [
    {
     "name": "stdout",
     "output_type": "stream",
     "text": [
      "X | Y\n",
      "--|--\n",
      "e | d\n",
      "d | e\n",
      "c | b\n",
      "b | c\n",
      "X | Y\n",
      "--|--\n",
      "f | e\n",
      "f | d\n",
      "d | f\n",
      "e | f\n",
      "X | Y\n",
      "--|--\n",
      "f | a\n",
      "e | a\n",
      "d | a\n",
      "X | Y\n",
      "--|--\n",
      "b | a\n",
      "c | a\n",
      "d | b\n",
      "e | b\n",
      "f | c\n"
     ]
    }
   ],
   "source": [
    "from pyDatalog import pyDatalog as py\n",
    "py.create_terms(\"brother,father,cousin,grandson,descendent,X,Y,Z,W,a,b,c,d,e,f\")\n",
    "+father('a','b')\n",
    "+father('a','c')\n",
    "+father('b','d')\n",
    "+father('b','e')\n",
    "+father('c','f')\n",
    "brother(X,Y) <= (father(Z,X)) & (father(Z,Y)) & ~(X==Y)\n",
    "cousin(X,Y) <= (father(Z,X)) & (father(W,Y)) & (brother(Z,W))\n",
    "grandson(X,Y)<= (father(Y,Z)) & (father(Z,X))\n",
    "descendent(X,Y) <= (father(Y,X))\n",
    "descendent(X,Y) <= (father(Z,X)) & (descendent(Z,X))\n",
    "print(brother(X,Y))\n",
    "print(cousin(X,Y))\n",
    "print(grandson(X,Y))\n",
    "print(descendent(X,Y))"
   ]
  },
  {
   "cell_type": "code",
   "execution_count": 12,
   "metadata": {},
   "outputs": [
    {
     "name": "stdout",
     "output_type": "stream",
     "text": [
      "Requirement already satisfied: pyDatalog in d:\\workspace\\python\\anaconda\\lib\\site-packages (0.17.1)\n"
     ]
    }
   ],
   "source": [
    "!pip install pyDatalog"
   ]
  },
  {
   "cell_type": "code",
   "execution_count": 6,
   "metadata": {},
   "outputs": [
    {
     "name": "stdout",
     "output_type": "stream",
     "text": [
      "Which animal is dark and Big\n",
      "Animal\n",
      "------\n",
      "Bear  \n"
     ]
    }
   ],
   "source": [
    "from pyDatalog import pyDatalog\n",
    "pyDatalog.create_terms(\"Bear, Elephant, Cat ,Gray,Black,Brown,Big,Small,size,Color,dark,Animal\")\n",
    "+size(\"Bear\",\"Big\")\n",
    "+size(\"Elephant\",\"Big\")\n",
    "+size(\"Cat\",\"Small\")\n",
    "+Color(\"Bear\",\"Brown\")\n",
    "+Color(\"Cat\",\"Black\")\n",
    "+Color(\"Elephant\",\"Gray\")\n",
    "dark(Animal)<=(Color(Animal,\"Black\"))\n",
    "dark(Animal)<=(Color(Animal,\"Brown\"))\n",
    "print(\"Which animal is dark and Big\")\n",
    "print(dark(Animal) & (size(Animal,\"Big\")))"
   ]
  },
  {
   "cell_type": "code",
   "execution_count": 4,
   "metadata": {},
   "outputs": [
    {
     "name": "stdout",
     "output_type": "stream",
     "text": [
      "\n",
      "a)Print names and marks of all students\n",
      "\n",
      "Names  | Marks\n",
      "-------|------\n",
      "Shayam | 80   \n",
      "Carol  | 70   \n",
      "Priya  | 85   \n",
      "Raju   | 45   \n",
      "Ram    | 90   \n",
      "\n",
      "\n",
      "b)Students who have scored 80 marks?\n",
      "\n",
      "Names \n",
      "------\n",
      "Shayam\n",
      "\n",
      "\n",
      "c)Marks Scored by Priya:\n",
      "\n",
      "Marks\n",
      "-----\n",
      "85   \n",
      "\n",
      "d)Write a rule ‘passm’ denoting that pass mark is greater than 50. Use the rule to print all students who failed:\n",
      "\n",
      "Names | Marks\n",
      "------|------\n",
      "Raju  | 45   \n",
      "\n",
      "\n",
      "e)Write rules for finding grade letters for a marks and use the rule to find the grade letter of a given mark.\n",
      "\n",
      "Grades:\n",
      "\n",
      "\n",
      "Grade O\n",
      "\n",
      "Names | Marks\n",
      "------|------\n",
      "Ram   | 90   \n",
      "\n",
      "\n",
      "Grade A\n",
      "\n",
      "Names  | Marks\n",
      "-------|------\n",
      "Shayam | 80   \n",
      "Priya  | 85   \n",
      "\n",
      "\n",
      "Grade B\n",
      "\n",
      "Names | Marks\n",
      "------|------\n",
      "Carol | 70   \n",
      "\n",
      "\n",
      "Grade C\n",
      "\n",
      "[]\n",
      "\n",
      "\n",
      "Grade D\n",
      "\n",
      "[]\n",
      "\n",
      "\n",
      "Grade F\n",
      "\n",
      "Names | Marks\n",
      "------|------\n",
      "Raju  | 45   \n"
     ]
    }
   ],
   "source": [
    "from pyDatalog import pyDatalog\n",
    "pyDatalog.create_terms(\"Ram,Raju,Priya,Carol,Shayam,name,Names,Marks,passm,grade,X,Y,o_grade,a_grade,b_grade,c_grade,d_grade,f_grade\")\n",
    "+name(\"Ram\",90)\n",
    "+name(\"Raju\",45)\n",
    "+name(\"Priya\",85)\n",
    "+name(\"Carol\",70)\n",
    "+name(\"Shayam\",80)\n",
    "print(\"\\na)Print names and marks of all students\\n\")\n",
    "print(name(Names,Marks))\n",
    "print()\n",
    "print(\"\\nb)Students who have scored 80 marks?\\n\")\n",
    "print(name(Names,80))\n",
    "print()\n",
    "print(\"\\nc)Marks Scored by Priya:\\n\")\n",
    "print(name(\"Priya\",Marks))\n",
    "print(\"\\nd)Write a rule ‘passm’ denoting that pass mark is greater than 50. Use the rule to print all students who failed:\\n\")\n",
    "passm(Names,Marks)<= (name(Names,Marks) & (Marks<=50))\n",
    "print(passm(Names,Marks))\n",
    "print()\n",
    "print(\"\\ne)Write rules for finding grade letters for a marks and use the rule to find the grade letter of a given mark.\\n\")\n",
    "print(\"Grades:\\n\")\n",
    "o_grade(Names,Marks)<=(name(Names,Marks) & (Marks >= 90))\n",
    "print(\"\\nGrade O\\n\")    \n",
    "print(o_grade(Names,Marks) & name(Names,Marks))\n",
    "print()\n",
    "a_grade(Names,Marks)<=(name(Names,Marks) & (Marks >= 80) & (Marks < 90))\n",
    "print(\"\\nGrade A\\n\")    \n",
    "print(a_grade(Names,Marks) & name(Names,Marks))\n",
    "print()\n",
    "b_grade(Names,Marks)<=(name(Names,Marks) & (Marks >= 70) & (Marks < 80))\n",
    "print(\"\\nGrade B\\n\")    \n",
    "print(b_grade(Names,Marks) & name(Names,Marks))\n",
    "print()\n",
    "c_grade(Names,Marks)<=(name(Names,Marks) & (Marks >= 60) & (Marks < 70))\n",
    "print(\"\\nGrade C\\n\")    \n",
    "print(c_grade(Names,Marks) & name(Names,Marks))\n",
    "print()\n",
    "d_grade(Names,Marks)<=(name(Names,Marks) & (Marks >= 50) & (Marks < 60))\n",
    "print(\"\\nGrade D\\n\")    \n",
    "print(d_grade(Names,Marks) & name(Names,Marks))\n",
    "print()\n",
    "f_grade(Names,Marks)<=(name(Names,Marks) & (Marks < 50) )\n",
    "print(\"\\nGrade F\\n\")    \n",
    "print(f_grade(Names,Marks) & name(Names,Marks))"
   ]
  },
  {
   "cell_type": "code",
   "execution_count": 28,
   "metadata": {},
   "outputs": [
    {
     "name": "stdout",
     "output_type": "stream",
     "text": [
      "\n",
      "a)Print names and marks of all students from dictionary\n",
      "\n",
      "Names : Marks\n",
      "Ram: 90\n",
      "Raju: 45\n",
      "Priya: 85\n",
      "Carol: 70\n",
      "Shayam: 80\n",
      "\n",
      "\n",
      "b)Students who have scored 80 marks?\n",
      "\n",
      "Shayam\n",
      "\n",
      "c)Marks Scored by Priya:\n",
      "\n",
      "85\n",
      "\n",
      "d)Write a rule ‘passm’ denoting that pass mark is greater than 50. Use the rule to print all students who failed:\n",
      "\n",
      "Raju : 45\n",
      "\n",
      "e)Write rules for finding grade letters for a marks and use the rule to find the grade letter of a given mark.\n",
      "\n",
      "Grades:\n",
      "\n",
      "Ram : 90 - Grade O\n",
      "\n",
      "Raju : 45 - Grade F\n",
      "\n",
      "Priya : 85 - Grade A\n",
      "\n",
      "Carol : 70 - Grade B\n",
      "\n",
      "Shayam : 80 - Grade A\n",
      "\n"
     ]
    }
   ],
   "source": [
    "print(\"\\na)Print names and marks of all students from dictionary\\n\")\n",
    "print(\"Names : Marks\")\n",
    "marks_name_dict = {'Ram': 90 , 'Raju': 45,'Priya': 85 , 'Carol': 70, 'Shayam': 80}\n",
    "\n",
    "print('\\n'.join(\"{}: {}\".format(k, v) for k, v in marks_name_dict.items()))\n",
    "\n",
    "print()\n",
    "\n",
    "\n",
    "print(\"\\nb)Students who have scored 80 marks?\\n\")\n",
    "\n",
    "print(list(marks_name_dict.keys())[list(marks_name_dict.values()).index(80)])\n",
    "\n",
    "print(\"\\nc)Marks Scored by Priya:\\n\")\n",
    "\n",
    "\n",
    "print(marks_name_dict['Priya'])\n",
    "\n",
    "\n",
    "print(\"\\nd)Write a rule ‘passm’ denoting that pass mark is greater than 50. Use the rule to print all students who failed:\\n\")\n",
    "\n",
    "\n",
    "passm=50\n",
    "for key, value in marks_name_dict.items():\n",
    "    if value <= passm: \n",
    "        print (key +\" : \"+ str(value))\n",
    "        \n",
    "\n",
    "\n",
    "print(\"\\ne)Write rules for finding grade letters for a marks and use the rule to find the grade letter of a given mark.\\n\")\n",
    "print(\"Grades:\\n\")\n",
    "for key, value in marks_name_dict.items():\n",
    "    \n",
    "    if value >= 90:  \n",
    "        print (key +\" : \"+ str(value)  + \" - Grade O\\n\")\n",
    "      \n",
    "    elif value >= 80 and value <90:\n",
    "        print(key +\" : \"+ str(value)  + \" - Grade A\\n\")\n",
    "    elif value >= 70 and value <80:\n",
    "        print(key +\" : \"+ str(value)  + \" - Grade B\\n\")=\n",
    "    elif value >= 60 and value <70:\n",
    "        print(key +\" : \"+ str(value)  + \" - Grade C\\n\")\n",
    "    elif value >= 50 and value <60:\n",
    "        print(key +\" : \"+ str(value)  + \" - Grade D\\n\")\n",
    "    elif value < 50 :\n",
    "        print(key +\" : \"+ str(value)  + \" - Grade F\\n\")"
   ]
  },
  {
   "cell_type": "code",
   "execution_count": 5,
   "metadata": {},
   "outputs": [
    {
     "name": "stdout",
     "output_type": "stream",
     "text": [
      "N \n",
      "--\n",
      "24\n"
     ]
    }
   ],
   "source": [
    "from pyDatalog import pyDatalog\n",
    "pyDatalog.create_terms(\"N,Factorial\")\n",
    "Factorial[N]=N*Factorial[N-1]\n",
    "Factorial[1]=1\n",
    "print(Factorial[4]==N)"
   ]
  },
  {
   "cell_type": "code",
   "execution_count": null,
   "metadata": {},
   "outputs": [],
   "source": []
  }
 ],
 "metadata": {
  "kernelspec": {
   "display_name": "Python 3",
   "language": "python",
   "name": "python3"
  },
  "language_info": {
   "codemirror_mode": {
    "name": "ipython",
    "version": 3
   },
   "file_extension": ".py",
   "mimetype": "text/x-python",
   "name": "python",
   "nbconvert_exporter": "python",
   "pygments_lexer": "ipython3",
   "version": "3.8.5"
  }
 },
 "nbformat": 4,
 "nbformat_minor": 4
}
