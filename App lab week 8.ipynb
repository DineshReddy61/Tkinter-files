{
 "cells": [
  {
   "cell_type": "code",
   "execution_count": 2,
   "metadata": {},
   "outputs": [
    {
     "name": "stdout",
     "output_type": "stream",
     "text": [
      "T AND F =  False\n",
      "\n",
      "\n",
      "3*4=  12\n",
      "\n",
      "\n"
     ]
    }
   ],
   "source": [
    "y=lambda s: s and False\n",
    "print(\"T AND F = \",y(True)) \n",
    "print(\"\\n\")\n",
    "x = lambda a : a*4\n",
    "print(\"3*4= \",x(3))\n",
    "print(\"\\n\")"
   ]
  },
  {
   "cell_type": "code",
   "execution_count": 2,
   "metadata": {},
   "outputs": [
    {
     "name": "stdout",
     "output_type": "stream",
     "text": [
      "Enter a number:3\n",
      "81\n"
     ]
    }
   ],
   "source": [
    "def square(number): \n",
    "    value = number * number\n",
    "    return value\n",
    "def twice(func,num):\n",
    "    return func(func(num))\n",
    "n=int(input('Enter a number:'))\n",
    "k=twice(square,n)\n",
    "print(k)"
   ]
  },
  {
   "cell_type": "code",
   "execution_count": 5,
   "metadata": {},
   "outputs": [
    {
     "name": "stdout",
     "output_type": "stream",
     "text": [
      "Let the maximum limit for generating random numbers be 10\n",
      "Index of the random number is  9\n",
      "\n",
      "\n"
     ]
    }
   ],
   "source": [
    "import random\n",
    "m=10\n",
    "print(\"Let the maximum limit for generating random numbers be \"+str(m))\n",
    "lst=[]\n",
    "for i in range(m):\n",
    "    lst.append(random.randint(1,m)) \n",
    "for j in range(1):\n",
    "    d1=random.randrange(0,m,1)\n",
    "    print(\"Index of the random number is \",lst[d1])\n",
    "print(\"\\n\")"
   ]
  },
  {
   "cell_type": "code",
   "execution_count": 1,
   "metadata": {},
   "outputs": [
    {
     "name": "stdout",
     "output_type": "stream",
     "text": [
      "player2\n",
      "\n",
      "\n"
     ]
    }
   ],
   "source": [
    "import operator\n",
    "import functools\n",
    "p1=[45,81,39]\n",
    "p2=[74,89,12]\n",
    "av1=functools.reduce(operator.add,p1)\n",
    "av2=functools.reduce(operator.add,p2)\n",
    "av1=av1/2\n",
    "av2=av2/2\n",
    "print(\"Player1\" if av1>av2 else \"player2\")\n",
    "print(\"\\n\")"
   ]
  },
  {
   "cell_type": "code",
   "execution_count": null,
   "metadata": {},
   "outputs": [],
   "source": [
    "q=functools.reduce(lambda x,y : x+y , map(lambda x: x+x, filter(lambda x: (x<=4),[1,2,3,4,5,6,7])))\n",
    "print(q)"
   ]
  },
  {
   "cell_type": "code",
   "execution_count": 1,
   "metadata": {},
   "outputs": [
    {
     "name": "stdout",
     "output_type": "stream",
     "text": [
      "Enter the word: Narayana is studying in SRM\n",
      "Enter the shift: 4\n",
      "Encrypted text:  R e v e c e r e   m w   w x y h c m r k   m r   W V Q "
     ]
    }
   ],
   "source": [
    "\n",
    "def encrypt(letter, s):\n",
    "    if(letter.isupper()):\n",
    "        return chr((ord(letter) + s -65) % 26+65)\n",
    "    elif(letter.islower()):\n",
    "        return chr((ord(letter) + s -97) % 26+97)\n",
    "    else:\n",
    "        return letter\n",
    "text=input(\"Enter the word: \")\n",
    "s=int(input(\"Enter the shift: \"))\n",
    "shift=[s]*len(text)\n",
    "result=list(map(encrypt,text,shift))\n",
    "print(\"Encrypted text: \",end=\" \")\n",
    "for i in result:\n",
    "    print(i, end=\" \")\n"
   ]
  },
  {
   "cell_type": "code",
   "execution_count": 3,
   "metadata": {},
   "outputs": [
    {
     "name": "stdout",
     "output_type": "stream",
     "text": [
      "Enter the number of meters to be converted: 7\n",
      "22.97 feet\n"
     ]
    }
   ],
   "source": [
    "feet = lambda m: m*(3.281)\n",
    "meters = int(input(\"Enter the number of meters to be converted: \"))\n",
    "print(\"{:0.2f} feet\".format(feet(meters)))"
   ]
  },
  {
   "cell_type": "code",
   "execution_count": 11,
   "metadata": {},
   "outputs": [
    {
     "name": "stdout",
     "output_type": "stream",
     "text": [
      "Enter value for a: 3\n",
      "Enter value for b: 4\n",
      "13\n"
     ]
    }
   ],
   "source": [
    "square = lambda x: x**2\n",
    "total=lambda f, b: lambda a: f(a)+b\n",
    "a=int(input(\"Enter value for a: \"))\n",
    "b=int(input(\"Enter value for b: \"))\n",
    "print(total(square, b) (a))"
   ]
  },
  {
   "cell_type": "code",
   "execution_count": 16,
   "metadata": {},
   "outputs": [
    {
     "name": "stdout",
     "output_type": "stream",
     "text": [
      "45\n"
     ]
    }
   ],
   "source": [
    "def multiplier_of(n):\n",
    "    def multiplier(number):\n",
    "        return number*n\n",
    "    return multiplier\n",
    "multiplywith5 = multiplier_of(5)\n",
    "print(multiplywith5(9))"
   ]
  },
  {
   "cell_type": "code",
   "execution_count": 17,
   "metadata": {},
   "outputs": [
    {
     "name": "stdout",
     "output_type": "stream",
     "text": [
      "Student #2 failed in at least one suject\n",
      "Student #3 failed in at least one suject\n"
     ]
    }
   ],
   "source": [
    "marks=[[85,76,65,98,59],[55,78,31,45,54],[63,71,64,87,15]]\n",
    "def fail(marks):\n",
    "    for i in marks:\n",
    "        if i < 40:\n",
    "            return True\n",
    "result=filter(fail,marks)\n",
    "res=list(result)\n",
    "for i in range(0, len(marks)):\n",
    "    if marks[i] in res:\n",
    "        print(\"Student #{} failed in at least one suject\".format(i+1))"
   ]
  },
  {
   "cell_type": "code",
   "execution_count": null,
   "metadata": {},
   "outputs": [],
   "source": []
  }
 ],
 "metadata": {
  "kernelspec": {
   "display_name": "Python 3",
   "language": "python",
   "name": "python3"
  },
  "language_info": {
   "codemirror_mode": {
    "name": "ipython",
    "version": 3
   },
   "file_extension": ".py",
   "mimetype": "text/x-python",
   "name": "python",
   "nbconvert_exporter": "python",
   "pygments_lexer": "ipython3",
   "version": "3.8.5"
  }
 },
 "nbformat": 4,
 "nbformat_minor": 4
}
