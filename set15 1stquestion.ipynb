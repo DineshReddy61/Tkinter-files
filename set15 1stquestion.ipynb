{
 "cells": [
  {
   "cell_type": "code",
   "execution_count": 1,
   "metadata": {},
   "outputs": [
    {
     "name": "stdout",
     "output_type": "stream",
     "text": [
      "DATE =  1 | RAW MATERIAL TRANSFERRED =  5 | INCOME =  500\n",
      "DATE =  2 | RAW MATERIAL TRANSFERRED =  2 | INCOME =  200\n",
      "DATE =  3 | RAW MATERIAL TRANSFERRED =  6 | INCOME =  600\n",
      "DATE =  4 | RAW MATERIAL TRANSFERRED =  1 | INCOME =  100\n",
      "DATE =  5 | RAW MATERIAL TRANSFERRED =  9 | INCOME =  900\n",
      "Total income for 5 days is:  2300\n"
     ]
    }
   ],
   "source": [
    "#q1\n",
    "import sqlite3\n",
    "\n",
    "conn = sqlite3.connect('industry.db')\n",
    "\n",
    "\n",
    "conn.execute('''CREATE TABLE IF NOT EXISTS PAPER \n",
    "             (INCOME         INT,\n",
    "              RAW_MATERIAL   INT,\n",
    "              DATE           INT);''')\n",
    "\n",
    "\n",
    "\n",
    "\n",
    "conn.execute(\"INSERT INTO PAPER (INCOME,RAW_MATERIAL,DATE) \\\n",
    "      VALUES (500, 5, 1)\");\n",
    "\n",
    "conn.execute(\"INSERT INTO PAPER (INCOME,RAW_MATERIAL,DATE) \\\n",
    "      VALUES (200, 2, 2)\");\n",
    "\n",
    "conn.execute(\"INSERT INTO PAPER (INCOME,RAW_MATERIAL,DATE) \\\n",
    "      VALUES (600, 6, 3)\");\n",
    "\n",
    "conn.execute(\"INSERT INTO PAPER (INCOME,RAW_MATERIAL,DATE) \\\n",
    "      VALUES (100, 1, 4)\");\n",
    "conn.execute(\"INSERT INTO PAPER (INCOME,RAW_MATERIAL,DATE) \\\n",
    "      VALUES (900, 9, 5)\");\n",
    "    \n",
    "conn.commit()\n",
    "\n",
    "\n",
    "\n",
    "cursor = conn.execute(\"SELECT * from PAPER\")\n",
    "sum=0\n",
    "for row in cursor:\n",
    "    print(\"DATE = \", row[2],\"| RAW MATERIAL TRANSFERRED = \",row[1],\"| INCOME = \",row[0])\n",
    "    sum+=row[0]\n",
    "\n",
    "    \n",
    "print(\"Total income for 5 days is: \",sum)\n",
    "\n",
    "\n",
    "conn.close()"
   ]
  },
  {
   "cell_type": "code",
   "execution_count": null,
   "metadata": {},
   "outputs": [],
   "source": []
  }
 ],
 "metadata": {
  "kernelspec": {
   "display_name": "Python 3",
   "language": "python",
   "name": "python3"
  },
  "language_info": {
   "codemirror_mode": {
    "name": "ipython",
    "version": 3
   },
   "file_extension": ".py",
   "mimetype": "text/x-python",
   "name": "python",
   "nbconvert_exporter": "python",
   "pygments_lexer": "ipython3",
   "version": "3.8.5"
  }
 },
 "nbformat": 4,
 "nbformat_minor": 4
}
