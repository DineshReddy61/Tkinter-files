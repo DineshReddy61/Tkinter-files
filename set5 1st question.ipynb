{
 "cells": [
  {
   "cell_type": "code",
   "execution_count": null,
   "metadata": {},
   "outputs": [],
   "source": [
    "#q1\n",
    "from tkinter import *\n",
    "import sqlite3\n",
    "import tkinter.messagebox\n",
    "root=Tk()\n",
    "root.title(\"Digital form\")\n",
    "root.geometry(\"1100x1200\")\n",
    "\n",
    "def exitt():\n",
    "    exit()\n",
    "\n",
    "def database():\n",
    "    name1=row1.get()\n",
    "    name2=row2.get()\n",
    "    name3=row3.get()\n",
    "    name4=row4.get()\n",
    "    name5=row5.get()\n",
    "    \n",
    "    \n",
    "    conn=sqlite3.connect(\"stock.db\")\n",
    "    with conn:\n",
    "        cursor=conn.cursor()\n",
    "    cursor.execute('CREATE TABLE IF NOT EXISTS DIGITAL_FORM(first TEXT,second TEXT,third TEXT,fourth TEXT,fifth TEXT)')\n",
    "    cursor.execute('INSERT INTO DIGITAL_FORM(first,second,third,fourth,fifth) VALUES (?,?,?,?,?)' , (name1,name2,name3,name4,name5))\n",
    "    conn.commit()\n",
    "\n",
    "\n",
    "Label(root, text=\"INVENTORY\", font=(\"lato 25 bold\"), pady=10).grid(row=0, column=2)\n",
    "\n",
    "row1=StringVar()\n",
    "Label(root, text=\"enter row1 record\", pady=5).grid(row=1, column=0,sticky=W)\n",
    "Entry(root,textvar=row1, width=20).grid(row=1, column=1)\n",
    "\n",
    "row2=StringVar()\n",
    "Label(root, text=\"enter row2 record\", pady=5).grid(row=2, column=0,sticky=W)\n",
    "Entry(root,textvar=row2, width=20).grid(row=2, column=1)\n",
    "\n",
    "row3=StringVar()\n",
    "Label(root, text=\"enter row3 record\", pady=5).grid(row=3, column=0,sticky=W)\n",
    "Entry(root,textvar=row3, width=20).grid(row=3, column=1)\n",
    "\n",
    "row4= StringVar()\n",
    "Label(root, text=\"enter row4 record\", pady=5).grid(row=9, column=0,sticky=W)\n",
    "Entry(root,textvar=row4, width=20).grid(row=9, column=1)\n",
    "\n",
    "row5= StringVar()\n",
    "Label(root, text=\"enter row5 record\", pady=5).grid(row=10, column=0,sticky=W)\n",
    "Entry(root, textvar=row5,width=20).grid(row=10, column=1)\n",
    "\n",
    "but1=Button(text=\"Submit\", width=12, height=2,  bg=\"grey\",font=(\"Arial\", 12), command=database)\n",
    "but1.place(x=300, y=500)\n",
    "root.bind(\"<Return>\", database)\n",
    "\n",
    "but2=Button(text=\"Exit\", width=12, height=2, bg=\"grey\", font=(\"Arial\",12), command=exitt)\n",
    "but2.place(x=650, y=500)\n",
    "\n",
    "\n",
    "root.mainloop()"
   ]
  },
  {
   "cell_type": "code",
   "execution_count": null,
   "metadata": {},
   "outputs": [],
   "source": []
  }
 ],
 "metadata": {
  "kernelspec": {
   "display_name": "Python 3",
   "language": "python",
   "name": "python3"
  },
  "language_info": {
   "codemirror_mode": {
    "name": "ipython",
    "version": 3
   },
   "file_extension": ".py",
   "mimetype": "text/x-python",
   "name": "python",
   "nbconvert_exporter": "python",
   "pygments_lexer": "ipython3",
   "version": "3.8.5"
  }
 },
 "nbformat": 4,
 "nbformat_minor": 4
}
