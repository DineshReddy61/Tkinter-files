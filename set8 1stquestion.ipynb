{
 "cells": [
  {
   "cell_type": "code",
   "execution_count": 1,
   "metadata": {},
   "outputs": [
    {
     "name": "stdout",
     "output_type": "stream",
     "text": [
      "('XXX', 5675, 23, 'female', '27-08-2001', 'B.E')\n",
      "('abc', 5677, 20, 'male', '20-04-2001', 'b.tech')\n"
     ]
    }
   ],
   "source": [
    "import sqlite3\n",
    "conn= sqlite3.connect('db.db')\n",
    "cursor=conn.cursor()\n",
    "cursor.execute(\"CREATE TABLE IF NOT EXISTS details(name TEXT,id int,age int,gender TEXT,dob TEXT,qualification TEXT)\")\n",
    "#cursor.execute(\"UPDATE details SET name='abc' age=20 gender='male' dob='20-04-2001' qualification='b.tech' where id=5677\")\n",
    "cursor.execute(\"INSERT INTO details values (?,?,?,?,?,?)\",('XXX',5675,23,'female','27-08-2001','B.E'))\n",
    "cursor.execute(\"INSERT INTO details values (?,?,?,?,?,?)\",('yyyy',5677,24,'male','23-09-2001','B.E'))\n",
    "cursor.execute(\"UPDATE details SET name='abc',age=20,gender='male',dob='20-04-2001',qualification='b.tech' where id=5677\")\n",
    "conn.commit()\n",
    "cursor=conn.execute(\"SELECT * FROM details\")\n",
    "for row in cursor:\n",
    "    print(row)\n",
    "conn.close()"
   ]
  },
  {
   "cell_type": "code",
   "execution_count": null,
   "metadata": {},
   "outputs": [],
   "source": []
  }
 ],
 "metadata": {
  "kernelspec": {
   "display_name": "Python 3",
   "language": "python",
   "name": "python3"
  },
  "language_info": {
   "codemirror_mode": {
    "name": "ipython",
    "version": 3
   },
   "file_extension": ".py",
   "mimetype": "text/x-python",
   "name": "python",
   "nbconvert_exporter": "python",
   "pygments_lexer": "ipython3",
   "version": "3.8.5"
  }
 },
 "nbformat": 4,
 "nbformat_minor": 4
}
