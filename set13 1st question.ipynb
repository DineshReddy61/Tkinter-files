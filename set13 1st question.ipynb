{
 "cells": [
  {
   "cell_type": "code",
   "execution_count": 1,
   "metadata": {},
   "outputs": [
    {
     "name": "stdout",
     "output_type": "stream",
     "text": [
      "Enter the no of the sides of the polygon : 6\n",
      "Hexagon\n",
      "Angle:  60.0\n",
      "Enter the length of the sides of the polygon : 200\n"
     ]
    }
   ],
   "source": [
    "import turtle\n",
    "  \n",
    "# creating turtle pen\n",
    "t = turtle.Turtle()\n",
    "  \n",
    "# taking input for the no of the sides of the polygon\n",
    "n = int(input(\"Enter the no of the sides of the polygon : \"))\n",
    "\n",
    "if n==3:\n",
    "    print(\"Triangle\\nAngle: \",360/n)\n",
    "elif n==4:\n",
    "    print(\"Square\\nAngle: \",360/n)\n",
    "elif n==5:\n",
    "    print(\"Pentagon\\nAngle: \",360/n)\n",
    "elif n==6:\n",
    "    print(\"Hexagon\\nAngle: \",360/n)\n",
    "elif n==7:\n",
    "    print(\"Heptagon\\nAngle: \",360/n)\n",
    "elif n==8:\n",
    "    print(\"Octagon\\nAngle: \",360/n)\n",
    "elif n==9:\n",
    "    print(\"Nanogon\\nAngle: \",360/n)\n",
    "elif n==10:\n",
    "    print(\"Decagon\\nAngle: \",360/n)\n",
    "elif n==11:\n",
    "    print(\"Hendecagon\\nAngle: \",360/n)  \n",
    "elif n==12:\n",
    "    print(\"Dodecagon\\nAngle: \",360/n)\n",
    "else:\n",
    "    print(\"n should be between 3 and 12\")\n",
    "# taking input for the length of the sides of the polygon\n",
    "l = int(input(\"Enter the length of the sides of the polygon : \"))\n",
    "  \n",
    "turtle.up()\n",
    "turtle.goto(-200,200)\n",
    "turtle.down()\n",
    "\n",
    "for _ in range(n):\n",
    "    turtle.forward(l)\n",
    "    turtle.right(360 / n)\n",
    "\n",
    "turtle.up()\n",
    "turtle.goto(-250,-250)\n",
    "turtle.down()\n",
    "\n",
    "\n",
    "\n",
    "turtle.done()"
   ]
  },
  {
   "cell_type": "code",
   "execution_count": null,
   "metadata": {},
   "outputs": [],
   "source": []
  }
 ],
 "metadata": {
  "kernelspec": {
   "display_name": "Python 3",
   "language": "python",
   "name": "python3"
  },
  "language_info": {
   "codemirror_mode": {
    "name": "ipython",
    "version": 3
   },
   "file_extension": ".py",
   "mimetype": "text/x-python",
   "name": "python",
   "nbconvert_exporter": "python",
   "pygments_lexer": "ipython3",
   "version": "3.8.5"
  }
 },
 "nbformat": 4,
 "nbformat_minor": 4
}
