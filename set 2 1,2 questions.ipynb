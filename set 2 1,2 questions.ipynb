{
 "cells": [
  {
   "cell_type": "code",
   "execution_count": 5,
   "metadata": {},
   "outputs": [
    {
     "name": "stdout",
     "output_type": "stream",
     "text": [
      "\n",
      "Starting thread 1\n",
      "\n",
      "Thread-1 : Sat Apr 10 20 : 52 16 2021\n",
      "\n",
      "Starting thread 2\n",
      "\n",
      "Thread-2 : Sat Apr 10 20 : 52 16 2021\n",
      "\n",
      "Thread-1 : Sat Apr 10 20 : 52 17 2021\n",
      "\n",
      "Thread-2 : Sat Apr 10 20 : 52 17 2021\n",
      "\n",
      "Thread-2 : Sat Apr 10 20 : 52 18 2021\n",
      "Thread-1 : Sat Apr 10 20 : 52 18 2021\n",
      "\n",
      "\n",
      "exit thread 2\n",
      "exit thread 1\n",
      "\n"
     ]
    }
   ],
   "source": [
    "#q1\n",
    "import threading\n",
    "import datetime\n",
    "import time\n",
    "def thread_1time():\n",
    "    print(\"\\nStarting thread 1\")\n",
    "    for _ in range(3):\n",
    "        now=datetime.datetime.now()\n",
    "        print(\"\\nThread-1 : \"+ now.strftime(\"%a %b %d %H : %M %S %Y\"))\n",
    "        time.sleep(1)\n",
    "    print(\"\\nexit thread 1\")\n",
    "    \n",
    "def thread_2time():\n",
    "    print(\"\\nStarting thread 2\")\n",
    "    for _ in range(3):\n",
    "        now=datetime.datetime.now()\n",
    "        print(\"\\nThread-2 : \"+ now.strftime(\"%a %b %d %H : %M %S %Y\"))\n",
    "        time.sleep(1)\n",
    "    print(\"\\nexit thread 2\")\n",
    "    \n",
    "t1=threading.Thread(target=thread_1time)\n",
    "t2=threading.Thread(target=thread_2time)\n",
    "t1.start()\n",
    "t2.start()"
   ]
  },
  {
   "cell_type": "code",
   "execution_count": 3,
   "metadata": {},
   "outputs": [
    {
     "name": "stdout",
     "output_type": "stream",
     "text": [
      "Writer is Writing!Reader is Reading!\n",
      "\n",
      "shared Data: 0\n",
      "Reader is Reading!\n",
      "\n",
      "shared Data: 0\n",
      "\n",
      "Writer is Writing!\n",
      "Writer is Releasing the lock!\n",
      "\n",
      "Writer is Releasing the lock!\n",
      "\n",
      "Reader is Reading!\n",
      "shared Data: 2\n",
      "\n",
      "Reader is Reading!\n",
      "shared Data: 2\n",
      "\n",
      "Reader is Reading!\n",
      "shared Data: 2\n",
      "\n",
      "Writer is Writing!\n",
      "Writer is Releasing the lock!\n",
      "\n",
      "Reader is Reading!\n",
      "shared Data: 3\n",
      "\n",
      "Writer is Writing!\n",
      "Writer is Releasing the lock!\n",
      "\n"
     ]
    }
   ],
   "source": [
    "#q2\n",
    "import threading as thread\n",
    "import random\n",
    "\n",
    "global x\n",
    "x = 0\n",
    "lock = thread.Lock()\n",
    "\n",
    "def Reader():\n",
    "    global x\n",
    "    print('Reader is Reading!')\n",
    "    lock.acquire()\n",
    "    print('shared Data:',x)\n",
    "    lock.release()\n",
    "    print()\n",
    "    \n",
    "def Writer():\n",
    "    global x\n",
    "    print('Writer is Writing!')\n",
    "    lock.acquire()\n",
    "    x +=1\n",
    "    print('Writer is Releasing the lock!')\n",
    "    lock.release()\n",
    "    print()\n",
    "    \n",
    "for i in range(0, 10):\n",
    "        randomNumber = random.randint(0, 100)\n",
    "        if(randomNumber > 50):\n",
    "            Thread1= thread.Thread(target = Reader)\n",
    "            Thread1.start()\n",
    "        else:\n",
    "            Thread2= thread.Thread(target = Writer)\n",
    "            Thread2.start()\n",
    "            \n",
    "Thread1.join()\n",
    "Thread2.join()"
   ]
  },
  {
   "cell_type": "code",
   "execution_count": null,
   "metadata": {},
   "outputs": [],
   "source": []
  }
 ],
 "metadata": {
  "kernelspec": {
   "display_name": "Python 3",
   "language": "python",
   "name": "python3"
  },
  "language_info": {
   "codemirror_mode": {
    "name": "ipython",
    "version": 3
   },
   "file_extension": ".py",
   "mimetype": "text/x-python",
   "name": "python",
   "nbconvert_exporter": "python",
   "pygments_lexer": "ipython3",
   "version": "3.8.5"
  }
 },
 "nbformat": 4,
 "nbformat_minor": 4
}
